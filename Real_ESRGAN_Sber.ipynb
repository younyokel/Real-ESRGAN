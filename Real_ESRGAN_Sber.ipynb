{
  "nbformat": 4,
  "nbformat_minor": 0,
  "metadata": {
    "accelerator": "GPU",
    "colab": {
      "provenance": [],
      "include_colab_link": true
    },
    "kernelspec": {
      "display_name": "Python 3",
      "name": "python3"
    },
    "language_info": {
      "name": "python"
    }
  },
  "cells": [
    {
      "cell_type": "markdown",
      "metadata": {
        "id": "view-in-github",
        "colab_type": "text"
      },
      "source": [
        "<a href=\"https://colab.research.google.com/github/younyokel/Real-ESRGAN/blob/main/Real_ESRGAN_Sber.ipynb\" target=\"_parent\"><img src=\"https://colab.research.google.com/assets/colab-badge.svg\" alt=\"Open In Colab\"/></a>"
      ]
    },
    {
      "cell_type": "markdown",
      "metadata": {
        "id": "Czlr7j7-t1Fw"
      },
      "source": [
        "# Installation\n"
      ]
    },
    {
      "cell_type": "code",
      "metadata": {
        "id": "zXm_whLxt-2X"
      },
      "source": [
        "!pip install git+https://github.com/sberbank-ai/Real-ESRGAN.git"
      ],
      "execution_count": null,
      "outputs": []
    },
    {
      "cell_type": "markdown",
      "source": [
        "# Upscale images"
      ],
      "metadata": {
        "id": "LrxK5SPKsS38"
      }
    },
    {
      "cell_type": "code",
      "source": [
        "#@title Create model\n",
        "from RealESRGAN import RealESRGAN\n",
        "from PIL import Image\n",
        "import numpy as np\n",
        "import torch\n",
        "\n",
        "device = torch.device('cuda' if torch.cuda.is_available() else 'cpu')\n",
        "print('device:', device)\n",
        "\n",
        "model_scale = \"4\" #@param [\"2\", \"4\", \"8\"] {allow-input: false}\n",
        "\n",
        "model = RealESRGAN(device, scale=int(model_scale))\n",
        "model.load_weights(f'weights/RealESRGAN_x{model_scale}.pth')"
      ],
      "metadata": {
        "cellView": "form",
        "id": "PQyuoWgZseHG"
      },
      "execution_count": null,
      "outputs": []
    },
    {
      "cell_type": "code",
      "metadata": {
        "id": "oNUtiddJvJK6",
        "cellView": "form"
      },
      "source": [
        "#@title Upload and upscale images or .tar archives\n",
        "import os\n",
        "from google.colab import files\n",
        "import shutil\n",
        "from io import BytesIO\n",
        "import io\n",
        "import tarfile\n",
        "\n",
        "upload_folder = 'inputs'\n",
        "result_folder = 'results'\n",
        "\n",
        "os.makedirs(upload_folder, exist_ok=True)\n",
        "os.makedirs(result_folder, exist_ok=True)\n",
        "\n",
        "IMAGE_FORMATS = ('.png', '.jpg', '.jpeg', '.tiff', '.bmp', '.gif')\n",
        "\n",
        "def image_to_tar_format(img, image_name):\n",
        "    buff = BytesIO()\n",
        "    if '.png' in image_name.lower():\n",
        "        img = img.convert('RGBA')\n",
        "        img.save(buff, format='PNG')\n",
        "    else:\n",
        "        img.save(buff, format='JPEG')\n",
        "    buff.seek(0)\n",
        "    fp = io.BufferedReader(buff)\n",
        "    img_tar_info = tarfile.TarInfo(name=image_name)\n",
        "    img_tar_info.size = len(buff.getvalue())\n",
        "    return img_tar_info, fp\n",
        "\n",
        "def process_tar(path_to_tar):\n",
        "    processing_tar = tarfile.open(path_to_tar, mode='r')\n",
        "    result_tar_path = os.path.join('results/', os.path.basename(path_to_tar))\n",
        "    save_tar = tarfile.open(result_tar_path, 'w')\n",
        "\n",
        "    for c, member in enumerate(processing_tar):\n",
        "        print(f'{c}, processing {member.name}')\n",
        "\n",
        "        if not member.name.endswith(IMAGE_FORMATS):\n",
        "            continue\n",
        "\n",
        "        try:\n",
        "            img_bytes = BytesIO(processing_tar.extractfile(member.name).read())\n",
        "            img_lr = Image.open(img_bytes, mode='r').convert('RGB')\n",
        "        except Exception as err:\n",
        "            print(f'Unable to open file {member.name}, skipping')\n",
        "            continue\n",
        "\n",
        "        img_sr = model.predict(np.array(img_lr))\n",
        "        # adding to save_tar\n",
        "        img_tar_info, fp = image_to_tar_format(img_sr, member.name)\n",
        "        save_tar.addfile(img_tar_info, fp)\n",
        "\n",
        "    processing_tar.close()\n",
        "    save_tar.close()    \n",
        "    print(f'Finished! Archive saved to {result_tar_path}')\n",
        "\n",
        "def process_input(filename):\n",
        "    if tarfile.is_tarfile(filename):\n",
        "        process_tar(filename)\n",
        "    else:\n",
        "        result_image_path = os.path.join('results/', os.path.basename(filename))\n",
        "        image = Image.open(filename).convert('RGB')\n",
        "        sr_image = model.predict(np.array(image))\n",
        "        sr_image.save(result_image_path)\n",
        "        print(f'Finished! Image saved to {result_image_path}')\n",
        "\n",
        "# upload files\n",
        "uploaded = files.upload()\n",
        "for filename in uploaded.keys():\n",
        "    print('Processing:', filename)\n",
        "    process_input(filename)"
      ],
      "execution_count": null,
      "outputs": []
    }
  ]
}